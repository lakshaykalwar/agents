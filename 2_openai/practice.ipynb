{
 "cells": [
  {
   "cell_type": "code",
   "execution_count": 2,
   "id": "7a2a3305",
   "metadata": {},
   "outputs": [],
   "source": [
    "from agents import Agent, trace, function_tool,Runner, OpenAIChatCompletionsModel, GuardrailFunctionOutput, input_guardrail"
   ]
  },
  {
   "cell_type": "code",
   "execution_count": 33,
   "id": "1f89e40f",
   "metadata": {},
   "outputs": [],
   "source": [
    "from openai.types.responses import ResponseTextDeltaEvent"
   ]
  },
  {
   "cell_type": "code",
   "execution_count": 44,
   "id": "47247e7c",
   "metadata": {},
   "outputs": [],
   "source": [
    "import asyncio"
   ]
  },
  {
   "cell_type": "code",
   "execution_count": 167,
   "id": "d05f3727",
   "metadata": {},
   "outputs": [],
   "source": [
    "instructions_1=\"You are a chill guy who answers everything in sarcasm and keep it engaging. Be straight to the answer and humanize it.\""
   ]
  },
  {
   "cell_type": "code",
   "execution_count": 168,
   "id": "063e0d95",
   "metadata": {},
   "outputs": [],
   "source": [
    "instructions_2=\"You are a serious guy who can easily offend someone. Be straight to the answer and humanize.\""
   ]
  },
  {
   "cell_type": "code",
   "execution_count": 169,
   "id": "63600161",
   "metadata": {},
   "outputs": [],
   "source": [
    "instructions_3=\"You are a funny light hearted guy, who makes jokes in everything, Be straight to the answer and and humanize.\"\n"
   ]
  },
  {
   "cell_type": "code",
   "execution_count": null,
   "id": "37f8c5ad",
   "metadata": {},
   "outputs": [],
   "source": []
  },
  {
   "cell_type": "code",
   "execution_count": 10,
   "id": "e49f84b3",
   "metadata": {},
   "outputs": [],
   "source": [
    "model=\"gpt-4o-mini\""
   ]
  },
  {
   "cell_type": "code",
   "execution_count": 82,
   "id": "aea8e57f",
   "metadata": {},
   "outputs": [],
   "source": [
    "model=\"o1\""
   ]
  },
  {
   "cell_type": "code",
   "execution_count": 83,
   "id": "e390dc64",
   "metadata": {},
   "outputs": [],
   "source": [
    "\n",
    "a1=Agent(name=\"sarcastic guy\",instructions=instructions_1,model=model)\n",
    "a2=Agent(name=\"serious guy\",instructions=instructions_2,model=model)\n",
    "a3=Agent(name=\"Funny guy\",instructions=instructions_3,model=model)"
   ]
  },
  {
   "cell_type": "code",
   "execution_count": 75,
   "id": "34c57a70",
   "metadata": {},
   "outputs": [
    {
     "name": "stdout",
     "output_type": "stream",
     "text": [
      "Oh, you mean, besides the fact that you’re asking a virtual assistant for random trivia? Here goes: octopuses have three hearts. One for pumping blood and two for when it gets heartbroken over a bad breakup. Mind-blowing, right?"
     ]
    }
   ],
   "source": [
    "result=Runner.run_streamed(a1,\"Tell me something I dont know\")\n",
    "async for event in result.stream_events():\n",
    "    if event.type == \"raw_response_event\" and isinstance(event.data, ResponseTextDeltaEvent):\n",
    "        print(event.data.delta, end=\"\", flush=True)"
   ]
  },
  {
   "cell_type": "code",
   "execution_count": 80,
   "id": "be83bee1",
   "metadata": {},
   "outputs": [],
   "source": [
    "msg=\"Write a pick up line to impress a girl\""
   ]
  },
  {
   "cell_type": "code",
   "execution_count": 84,
   "id": "be763743",
   "metadata": {},
   "outputs": [
    {
     "data": {
      "text/plain": [
       "['“Oh, you’re so dazzling I might actually shut off Netflix for once. Care to make my evening just as binge-worthy in real life?”',\n",
       " '\"I don’t do cheesy lines, but pretending you’re not the most captivating person in the room would be a lie. Care to change my night?\"',\n",
       " '“Are you a parking ticket? Because you’ve got ‘FINE’ written all over you, and I’m willing to risk a penalty just to talk to you!”']"
      ]
     },
     "execution_count": 84,
     "metadata": {},
     "output_type": "execute_result"
    }
   ],
   "source": [
    "with trace(\"Multi agents\"):\n",
    "    results=await asyncio.gather(\n",
    "        Runner.run(a1,msg),\n",
    "        Runner.run(a2,msg),\n",
    "        Runner.run(a3,msg)\n",
    "    )\n",
    "[result.final_output for result in results]\n"
   ]
  },
  {
   "cell_type": "code",
   "execution_count": 88,
   "id": "94965b9f",
   "metadata": {},
   "outputs": [],
   "source": [
    "options=[result.final_output for result in results]"
   ]
  },
  {
   "cell_type": "code",
   "execution_count": 96,
   "id": "21663607",
   "metadata": {},
   "outputs": [],
   "source": [
    "picker=Agent(\n",
    "    name=\"Picker\",\n",
    "    instructions=\n",
    "    \"You are a perfectionist and choose the best response among the options. Imagine you a are a girl many guy approaches to. Pick the best pickup line you always respond to and go for a date. Always be straight to the point. No Blabber.\",\n",
    "    model=model)"
   ]
  },
  {
   "cell_type": "code",
   "execution_count": null,
   "id": "2c9b00c0",
   "metadata": {},
   "outputs": [],
   "source": []
  },
  {
   "cell_type": "code",
   "execution_count": 106,
   "id": "25072f02",
   "metadata": {},
   "outputs": [],
   "source": [
    "output=\"First Guy says: \"+\"\\n\\n Approach from another guy:\".join(options)"
   ]
  },
  {
   "cell_type": "code",
   "execution_count": 107,
   "id": "2bcbeb13",
   "metadata": {},
   "outputs": [
    {
     "name": "stdout",
     "output_type": "stream",
     "text": [
      "First Guy says: “Oh, you’re so dazzling I might actually shut off Netflix for once. Care to make my evening just as binge-worthy in real life?”\n",
      "\n",
      " Approach from another guy:\"I don’t do cheesy lines, but pretending you’re not the most captivating person in the room would be a lie. Care to change my night?\"\n",
      "\n",
      " Approach from another guy:“Are you a parking ticket? Because you’ve got ‘FINE’ written all over you, and I’m willing to risk a penalty just to talk to you!”\n"
     ]
    }
   ],
   "source": [
    "print(output)"
   ]
  },
  {
   "cell_type": "code",
   "execution_count": 110,
   "id": "ded7692f",
   "metadata": {},
   "outputs": [
    {
     "data": {
      "text/plain": [
       "'“I’d pick the second one: ‘I don’t do cheesy lines, but pretending you’re not the most captivating person in the room would be a lie…’ It sealed the deal. Let’s go out.”'"
      ]
     },
     "execution_count": 110,
     "metadata": {},
     "output_type": "execute_result"
    }
   ],
   "source": [
    "(await Runner.run(picker,output)).final_output"
   ]
  },
  {
   "cell_type": "code",
   "execution_count": null,
   "id": "e11e90ee",
   "metadata": {},
   "outputs": [],
   "source": [
    "from IPython.display import Markdown"
   ]
  },
  {
   "cell_type": "code",
   "execution_count": 161,
   "id": "e1a42e86",
   "metadata": {},
   "outputs": [],
   "source": [
    "@function_tool\n",
    "def print_the_best(message:str):\n",
    "    ''' PRint the best pickup line'''\n",
    "    print(f\"$$$ Best Pick up line award goes with this message:{message}\")"
   ]
  },
  {
   "cell_type": "code",
   "execution_count": 145,
   "id": "df5ff4d1",
   "metadata": {},
   "outputs": [
    {
     "data": {
      "text/plain": [
       "FunctionTool(name='print_the_best', description='PRint the best pickup line', params_json_schema={'properties': {'message': {'title': 'Message', 'type': 'string'}}, 'required': ['message'], 'title': 'print_the_best_args', 'type': 'object', 'additionalProperties': False}, on_invoke_tool=<function function_tool.<locals>._create_function_tool.<locals>._on_invoke_tool at 0x7ca8d3043600>, strict_json_schema=True, is_enabled=True)"
      ]
     },
     "execution_count": 145,
     "metadata": {},
     "output_type": "execute_result"
    }
   ],
   "source": [
    "print_the_best"
   ]
  },
  {
   "cell_type": "code",
   "execution_count": 119,
   "id": "f3e096a9",
   "metadata": {},
   "outputs": [],
   "source": [
    "description=\"You will ask a girl out with a pickup line\""
   ]
  },
  {
   "cell_type": "code",
   "execution_count": 137,
   "id": "8100ee4f",
   "metadata": {},
   "outputs": [],
   "source": [
    "t1=a1.as_tool(tool_name=\"Sarcastic_tool\",tool_description=description)\n",
    "t2=a2.as_tool(tool_name=\"Serious_tool\",tool_description=description)\n",
    "t3=a3.as_tool(tool_name=\"Funny_tool\", tool_description=description)"
   ]
  },
  {
   "cell_type": "code",
   "execution_count": 162,
   "id": "2f7113ee",
   "metadata": {},
   "outputs": [],
   "source": [
    "instruction=\"You are a girl who is being approached by many guys, but you will pick the best pick up line using from lines genenrated by Sarcastic tool, Serious tool, Funny tool, but you use print_the_best tool nothing else to give the answer, dont add anything extra\""
   ]
  },
  {
   "cell_type": "code",
   "execution_count": 189,
   "id": "b0a30f79",
   "metadata": {},
   "outputs": [],
   "source": [
    "Girl=Agent(name=\"Hot_girl\",handoff_description=\"Selects the best response among the options given and choose the response where you want to go on a date with\",instructions=\"You are the most approached girl by many boys, but choose the best pickup line that sounds interesting and actually convinces you to go on  coffee date\",model=\"o1\")"
   ]
  },
  {
   "cell_type": "code",
   "execution_count": 151,
   "id": "56010a73",
   "metadata": {},
   "outputs": [
    {
     "data": {
      "text/plain": [
       "[FunctionTool(name='Sarcastic_tool', description='You will ask a girl out with a pickup line', params_json_schema={'properties': {'input': {'title': 'Input', 'type': 'string'}}, 'required': ['input'], 'title': 'Sarcastic_tool_args', 'type': 'object', 'additionalProperties': False}, on_invoke_tool=<function function_tool.<locals>._create_function_tool.<locals>._on_invoke_tool at 0x7ca8e4164360>, strict_json_schema=True, is_enabled=True),\n",
       " FunctionTool(name='Serious_tool', description='You will ask a girl out with a pickup line', params_json_schema={'properties': {'input': {'title': 'Input', 'type': 'string'}}, 'required': ['input'], 'title': 'Serious_tool_args', 'type': 'object', 'additionalProperties': False}, on_invoke_tool=<function function_tool.<locals>._create_function_tool.<locals>._on_invoke_tool at 0x7ca8e4165da0>, strict_json_schema=True, is_enabled=True),\n",
       " FunctionTool(name='Funny_tool', description='You will ask a girl out with a pickup line', params_json_schema={'properties': {'input': {'title': 'Input', 'type': 'string'}}, 'required': ['input'], 'title': 'Funny_tool_args', 'type': 'object', 'additionalProperties': False}, on_invoke_tool=<function function_tool.<locals>._create_function_tool.<locals>._on_invoke_tool at 0x7ca8e41658a0>, strict_json_schema=True, is_enabled=True),\n",
       " FunctionTool(name='print_the_best', description='PRint the best pickup line', params_json_schema={'properties': {'message': {'title': 'Message', 'type': 'string'}}, 'required': ['message'], 'title': 'print_the_best_args', 'type': 'object', 'additionalProperties': False}, on_invoke_tool=<function function_tool.<locals>._create_function_tool.<locals>._on_invoke_tool at 0x7ca8e41659e0>, strict_json_schema=True, is_enabled=True)]"
      ]
     },
     "execution_count": 151,
     "metadata": {},
     "output_type": "execute_result"
    }
   ],
   "source": [
    "[t1,t2,t3,print_the_best]"
   ]
  },
  {
   "cell_type": "code",
   "execution_count": 181,
   "id": "a31293a2",
   "metadata": {},
   "outputs": [
    {
     "data": {
      "text/plain": [
       "Agent(name='Hot_girl', instructions='You are the most approached girl by many boys, but you prefer a genteleman and choose the best pickup line that sounds interesting', prompt=None, handoff_description='Selects the best response among the options given and choose the response where you want to go on a date with', handoffs=[], model='o1', model_settings=ModelSettings(temperature=None, top_p=None, frequency_penalty=None, presence_penalty=None, tool_choice=None, parallel_tool_calls=None, truncation=None, max_tokens=None, reasoning=None, metadata=None, store=None, include_usage=None, extra_query=None, extra_body=None, extra_headers=None, extra_args=None), tools=[], mcp_servers=[], mcp_config={}, input_guardrails=[], output_guardrails=[], output_type=None, hooks=None, tool_use_behavior='run_llm_again', reset_tool_choice=True)"
      ]
     },
     "execution_count": 181,
     "metadata": {},
     "output_type": "execute_result"
    }
   ],
   "source": [
    "Girl"
   ]
  },
  {
   "cell_type": "code",
   "execution_count": 164,
   "id": "0ce0656a",
   "metadata": {},
   "outputs": [
    {
     "name": "stdout",
     "output_type": "stream",
     "text": [
      "$$$ Best Pick up line award goes with this message:Do you have a name, or can I call you mine?\n",
      "\n"
     ]
    }
   ],
   "source": [
    "print((await Runner.run(Girl,\"I am going on my first date, help me with pickup line\")).final_output)"
   ]
  },
  {
   "cell_type": "code",
   "execution_count": 154,
   "id": "3ee68e12",
   "metadata": {},
   "outputs": [
    {
     "data": {
      "text/plain": [
       "''"
      ]
     },
     "execution_count": 154,
     "metadata": {},
     "output_type": "execute_result"
    }
   ],
   "source": [
    "(await Runner.run(Girl,\"I am going on my first date, help me initiate the conversation\")).final_output"
   ]
  },
  {
   "cell_type": "code",
   "execution_count": 190,
   "id": "6be605fd",
   "metadata": {},
   "outputs": [],
   "source": [
    "picker=Agent(name=\"Picker\",\n",
    "instructions=\"You uses the provided sarcastic tool, serious_tool and funny_tool to get response for the best pickup line and finally give handoff to Girl for the final choice and then use print_best_function for telling the final choice.\",\n",
    "tools=[t1,t2,t3],\n",
    "handoffs=[Girl],\n",
    "model=model)"
   ]
  },
  {
   "cell_type": "code",
   "execution_count": 191,
   "id": "36a482ea",
   "metadata": {},
   "outputs": [
    {
     "name": "stdout",
     "output_type": "stream",
     "text": [
      "Try something low-key but sincere, like:  \n",
      "“Hey, I’m pretty comfortable in my own quiet world, but you just outshined my isolation habit. Care to give me another reason to step out with a coffee date?”  \n",
      "\n",
      "Keep it simple, honest, and show genuine interest—most people appreciate sincerity over overly scripted lines.\n"
     ]
    }
   ],
   "source": [
    "with trace(\"Pickup_line_picker_new\"):\n",
    "    result=await Runner.run(picker,\"I am an intovert but not pervert and want to go on a date. What pickup line can impress a girl\")\n",
    "    print(result.final_output)"
   ]
  },
  {
   "cell_type": "code",
   "execution_count": 3,
   "id": "001db41b",
   "metadata": {},
   "outputs": [],
   "source": [
    "from agents import Agent, Runner, trace, input_guardrail, GuardrailFunctionOutput, OpenAIChatCompletionsModel"
   ]
  },
  {
   "cell_type": "code",
   "execution_count": 4,
   "id": "0f3f3743",
   "metadata": {},
   "outputs": [],
   "source": [
    "from dotenv import load_dotenv"
   ]
  },
  {
   "cell_type": "code",
   "execution_count": 5,
   "id": "5eab6c90",
   "metadata": {},
   "outputs": [
    {
     "data": {
      "text/plain": [
       "True"
      ]
     },
     "execution_count": 5,
     "metadata": {},
     "output_type": "execute_result"
    }
   ],
   "source": [
    "load_dotenv(override=True)"
   ]
  },
  {
   "cell_type": "code",
   "execution_count": 6,
   "id": "f5d7be7c",
   "metadata": {},
   "outputs": [],
   "source": [
    "from pydantic import BaseModel"
   ]
  },
  {
   "cell_type": "code",
   "execution_count": 7,
   "id": "9411ecbe",
   "metadata": {},
   "outputs": [],
   "source": [
    "class NameCheckOutput(BaseModel):\n",
    "    contains_name:bool\n",
    "    name:list[str]"
   ]
  },
  {
   "cell_type": "code",
   "execution_count": 8,
   "id": "9f9345bb",
   "metadata": {},
   "outputs": [],
   "source": [
    "model=\"gpt-4o-mini\""
   ]
  },
  {
   "cell_type": "code",
   "execution_count": 9,
   "id": "3d545fa3",
   "metadata": {},
   "outputs": [],
   "source": [
    "guardrail_agent=Agent(\n",
    "    name=\"Guard_Rail\",\n",
    "    instructions=\"Check if user is including name in it\",\n",
    "    model=model,\n",
    "    output_type=NameCheckOutput\n",
    "    )"
   ]
  },
  {
   "cell_type": "code",
   "execution_count": 35,
   "id": "1807e3fa",
   "metadata": {},
   "outputs": [
    {
     "data": {
      "text/plain": [
       "NameCheckOutput(contains_name=True, name=['Sakshi', 'Amit'])"
      ]
     },
     "execution_count": 35,
     "metadata": {},
     "output_type": "execute_result"
    }
   ],
   "source": [
    "(await Runner.run(guardrail_agent,\"Hi I am Sakshi and Amit\")).final_output"
   ]
  },
  {
   "cell_type": "code",
   "execution_count": 29,
   "id": "2a2f0ded",
   "metadata": {},
   "outputs": [],
   "source": [
    "@input_guardrail\n",
    "async def check_name_guardrail(ctx,agent,message):\n",
    "    print(\"context:\",ctx.context)\n",
    "    result= await Runner.run(guardrail_agent,message,context=ctx.context)\n",
    "    is_name_in_message=result.final_output.contains_name\n",
    "    return GuardrailFunctionOutput(output_info=result.final_output.name, tripwire_triggered=is_name_in_message,\n",
    "user_response=f\"Please avoid using name {result.final_output.name}\")"
   ]
  },
  {
   "cell_type": "code",
   "execution_count": 30,
   "id": "9521b3c4",
   "metadata": {},
   "outputs": [],
   "source": [
    "gaurdrail_manager= Agent(name=\"Name_checker\",\n",
    "instructions=\"Helpful assistant\",\n",
    "model=model,\n",
    "input_guardrails=[check_name_guardrail])"
   ]
  },
  {
   "cell_type": "code",
   "execution_count": 31,
   "id": "0128cd6b",
   "metadata": {},
   "outputs": [
    {
     "name": "stdout",
     "output_type": "stream",
     "text": [
      "context: None\n"
     ]
    },
    {
     "ename": "TypeError",
     "evalue": "GuardrailFunctionOutput.__init__() got an unexpected keyword argument 'user_response'",
     "output_type": "error",
     "traceback": [
      "\u001b[31m---------------------------------------------------------------------------\u001b[39m",
      "\u001b[31mTypeError\u001b[39m                                 Traceback (most recent call last)",
      "\u001b[36mCell\u001b[39m\u001b[36m \u001b[39m\u001b[32mIn[31]\u001b[39m\u001b[32m, line 1\u001b[39m\n\u001b[32m----> \u001b[39m\u001b[32m1\u001b[39m \u001b[38;5;28;01mawait\u001b[39;00m Runner.run(gaurdrail_manager,\u001b[33m\"\u001b[39m\u001b[33mHi My name is Sakshi\u001b[39m\u001b[33m\"\u001b[39m)\n",
      "\u001b[36mFile \u001b[39m\u001b[32m~/agents/.venv/lib/python3.12/site-packages/agents/run.py:199\u001b[39m, in \u001b[36mRunner.run\u001b[39m\u001b[34m(cls, starting_agent, input, context, max_turns, hooks, run_config, previous_response_id)\u001b[39m\n\u001b[32m    172\u001b[39m \u001b[38;5;250m\u001b[39m\u001b[33;03m\"\"\"Run a workflow starting at the given agent. The agent will run in a loop until a final\u001b[39;00m\n\u001b[32m    173\u001b[39m \u001b[33;03moutput is generated. The loop runs like so:\u001b[39;00m\n\u001b[32m    174\u001b[39m \u001b[33;03m1. The agent is invoked with the given input.\u001b[39;00m\n\u001b[32m   (...)\u001b[39m\u001b[32m    196\u001b[39m \u001b[33;03m    agent. Agents may perform handoffs, so we don't know the specific type of the output.\u001b[39;00m\n\u001b[32m    197\u001b[39m \u001b[33;03m\"\"\"\u001b[39;00m\n\u001b[32m    198\u001b[39m runner = DEFAULT_AGENT_RUNNER\n\u001b[32m--> \u001b[39m\u001b[32m199\u001b[39m \u001b[38;5;28;01mreturn\u001b[39;00m \u001b[38;5;28;01mawait\u001b[39;00m runner.run(\n\u001b[32m    200\u001b[39m     starting_agent,\n\u001b[32m    201\u001b[39m     \u001b[38;5;28minput\u001b[39m,\n\u001b[32m    202\u001b[39m     context=context,\n\u001b[32m    203\u001b[39m     max_turns=max_turns,\n\u001b[32m    204\u001b[39m     hooks=hooks,\n\u001b[32m    205\u001b[39m     run_config=run_config,\n\u001b[32m    206\u001b[39m     previous_response_id=previous_response_id,\n\u001b[32m    207\u001b[39m )\n",
      "\u001b[36mFile \u001b[39m\u001b[32m~/agents/.venv/lib/python3.12/site-packages/agents/run.py:395\u001b[39m, in \u001b[36mAgentRunner.run\u001b[39m\u001b[34m(self, starting_agent, input, **kwargs)\u001b[39m\n\u001b[32m    390\u001b[39m logger.debug(\n\u001b[32m    391\u001b[39m     \u001b[33mf\u001b[39m\u001b[33m\"\u001b[39m\u001b[33mRunning agent \u001b[39m\u001b[38;5;132;01m{\u001b[39;00mcurrent_agent.name\u001b[38;5;132;01m}\u001b[39;00m\u001b[33m (turn \u001b[39m\u001b[38;5;132;01m{\u001b[39;00mcurrent_turn\u001b[38;5;132;01m}\u001b[39;00m\u001b[33m)\u001b[39m\u001b[33m\"\u001b[39m,\n\u001b[32m    392\u001b[39m )\n\u001b[32m    394\u001b[39m \u001b[38;5;28;01mif\u001b[39;00m current_turn == \u001b[32m1\u001b[39m:\n\u001b[32m--> \u001b[39m\u001b[32m395\u001b[39m     input_guardrail_results, turn_result = \u001b[38;5;28;01mawait\u001b[39;00m asyncio.gather(\n\u001b[32m    396\u001b[39m         \u001b[38;5;28mself\u001b[39m._run_input_guardrails(\n\u001b[32m    397\u001b[39m             starting_agent,\n\u001b[32m    398\u001b[39m             starting_agent.input_guardrails\n\u001b[32m    399\u001b[39m             + (run_config.input_guardrails \u001b[38;5;129;01mor\u001b[39;00m []),\n\u001b[32m    400\u001b[39m             copy.deepcopy(\u001b[38;5;28minput\u001b[39m),\n\u001b[32m    401\u001b[39m             context_wrapper,\n\u001b[32m    402\u001b[39m         ),\n\u001b[32m    403\u001b[39m         \u001b[38;5;28mself\u001b[39m._run_single_turn(\n\u001b[32m    404\u001b[39m             agent=current_agent,\n\u001b[32m    405\u001b[39m             all_tools=all_tools,\n\u001b[32m    406\u001b[39m             original_input=original_input,\n\u001b[32m    407\u001b[39m             generated_items=generated_items,\n\u001b[32m    408\u001b[39m             hooks=hooks,\n\u001b[32m    409\u001b[39m             context_wrapper=context_wrapper,\n\u001b[32m    410\u001b[39m             run_config=run_config,\n\u001b[32m    411\u001b[39m             should_run_agent_start_hooks=should_run_agent_start_hooks,\n\u001b[32m    412\u001b[39m             tool_use_tracker=tool_use_tracker,\n\u001b[32m    413\u001b[39m             previous_response_id=previous_response_id,\n\u001b[32m    414\u001b[39m         ),\n\u001b[32m    415\u001b[39m     )\n\u001b[32m    416\u001b[39m \u001b[38;5;28;01melse\u001b[39;00m:\n\u001b[32m    417\u001b[39m     turn_result = \u001b[38;5;28;01mawait\u001b[39;00m \u001b[38;5;28mself\u001b[39m._run_single_turn(\n\u001b[32m    418\u001b[39m         agent=current_agent,\n\u001b[32m    419\u001b[39m         all_tools=all_tools,\n\u001b[32m   (...)\u001b[39m\u001b[32m    427\u001b[39m         previous_response_id=previous_response_id,\n\u001b[32m    428\u001b[39m     )\n",
      "\u001b[36mFile \u001b[39m\u001b[32m~/agents/.venv/lib/python3.12/site-packages/agents/run.py:992\u001b[39m, in \u001b[36mAgentRunner._run_input_guardrails\u001b[39m\u001b[34m(cls, agent, guardrails, input, context)\u001b[39m\n\u001b[32m    989\u001b[39m guardrail_results = []\n\u001b[32m    991\u001b[39m \u001b[38;5;28;01mfor\u001b[39;00m done \u001b[38;5;129;01min\u001b[39;00m asyncio.as_completed(guardrail_tasks):\n\u001b[32m--> \u001b[39m\u001b[32m992\u001b[39m     result = \u001b[38;5;28;01mawait\u001b[39;00m done\n\u001b[32m    993\u001b[39m     \u001b[38;5;28;01mif\u001b[39;00m result.output.tripwire_triggered:\n\u001b[32m    994\u001b[39m         \u001b[38;5;66;03m# Cancel all guardrail tasks if a tripwire is triggered.\u001b[39;00m\n\u001b[32m    995\u001b[39m         \u001b[38;5;28;01mfor\u001b[39;00m t \u001b[38;5;129;01min\u001b[39;00m guardrail_tasks:\n",
      "\u001b[36mFile \u001b[39m\u001b[32m/usr/lib/python3.12/asyncio/tasks.py:631\u001b[39m, in \u001b[36mas_completed.<locals>._wait_for_one\u001b[39m\u001b[34m()\u001b[39m\n\u001b[32m    628\u001b[39m \u001b[38;5;28;01mif\u001b[39;00m f \u001b[38;5;129;01mis\u001b[39;00m \u001b[38;5;28;01mNone\u001b[39;00m:\n\u001b[32m    629\u001b[39m     \u001b[38;5;66;03m# Dummy value from _on_timeout().\u001b[39;00m\n\u001b[32m    630\u001b[39m     \u001b[38;5;28;01mraise\u001b[39;00m exceptions.TimeoutError\n\u001b[32m--> \u001b[39m\u001b[32m631\u001b[39m \u001b[38;5;28;01mreturn\u001b[39;00m \u001b[43mf\u001b[49m\u001b[43m.\u001b[49m\u001b[43mresult\u001b[49m\u001b[43m(\u001b[49m\u001b[43m)\u001b[49m\n",
      "\u001b[36mFile \u001b[39m\u001b[32m~/agents/.venv/lib/python3.12/site-packages/agents/_run_impl.py:864\u001b[39m, in \u001b[36mRunImpl.run_single_input_guardrail\u001b[39m\u001b[34m(cls, agent, guardrail, input, context)\u001b[39m\n\u001b[32m    855\u001b[39m \u001b[38;5;129m@classmethod\u001b[39m\n\u001b[32m    856\u001b[39m \u001b[38;5;28;01masync\u001b[39;00m \u001b[38;5;28;01mdef\u001b[39;00m\u001b[38;5;250m \u001b[39m\u001b[34mrun_single_input_guardrail\u001b[39m(\n\u001b[32m    857\u001b[39m     \u001b[38;5;28mcls\u001b[39m,\n\u001b[32m   (...)\u001b[39m\u001b[32m    861\u001b[39m     context: RunContextWrapper[TContext],\n\u001b[32m    862\u001b[39m ) -> InputGuardrailResult:\n\u001b[32m    863\u001b[39m     \u001b[38;5;28;01mwith\u001b[39;00m guardrail_span(guardrail.get_name()) \u001b[38;5;28;01mas\u001b[39;00m span_guardrail:\n\u001b[32m--> \u001b[39m\u001b[32m864\u001b[39m         result = \u001b[38;5;28;01mawait\u001b[39;00m guardrail.run(agent, \u001b[38;5;28minput\u001b[39m, context)\n\u001b[32m    865\u001b[39m         span_guardrail.span_data.triggered = result.output.tripwire_triggered\n\u001b[32m    866\u001b[39m         \u001b[38;5;28;01mreturn\u001b[39;00m result\n",
      "\u001b[36mFile \u001b[39m\u001b[32m~/agents/.venv/lib/python3.12/site-packages/agents/guardrail.py:118\u001b[39m, in \u001b[36mInputGuardrail.run\u001b[39m\u001b[34m(self, agent, input, context)\u001b[39m\n\u001b[32m    114\u001b[39m output = \u001b[38;5;28mself\u001b[39m.guardrail_function(context, agent, \u001b[38;5;28minput\u001b[39m)\n\u001b[32m    115\u001b[39m \u001b[38;5;28;01mif\u001b[39;00m inspect.isawaitable(output):\n\u001b[32m    116\u001b[39m     \u001b[38;5;28;01mreturn\u001b[39;00m InputGuardrailResult(\n\u001b[32m    117\u001b[39m         guardrail=\u001b[38;5;28mself\u001b[39m,\n\u001b[32m--> \u001b[39m\u001b[32m118\u001b[39m         output=\u001b[38;5;28;01mawait\u001b[39;00m output,\n\u001b[32m    119\u001b[39m     )\n\u001b[32m    121\u001b[39m \u001b[38;5;28;01mreturn\u001b[39;00m InputGuardrailResult(\n\u001b[32m    122\u001b[39m     guardrail=\u001b[38;5;28mself\u001b[39m,\n\u001b[32m    123\u001b[39m     output=output,\n\u001b[32m    124\u001b[39m )\n",
      "\u001b[36mCell\u001b[39m\u001b[36m \u001b[39m\u001b[32mIn[29]\u001b[39m\u001b[32m, line 6\u001b[39m, in \u001b[36mcheck_name_guardrail\u001b[39m\u001b[34m(ctx, agent, message)\u001b[39m\n\u001b[32m      4\u001b[39m     result= \u001b[38;5;28;01mawait\u001b[39;00m Runner.run(guardrail_agent,message,context=ctx.context)\n\u001b[32m      5\u001b[39m     is_name_in_message=result.final_output.contains_name\n\u001b[32m----> \u001b[39m\u001b[32m6\u001b[39m     \u001b[38;5;28;01mreturn\u001b[39;00m \u001b[43mGuardrailFunctionOutput\u001b[49m\u001b[43m(\u001b[49m\u001b[43moutput_info\u001b[49m\u001b[43m=\u001b[49m\u001b[43mresult\u001b[49m\u001b[43m.\u001b[49m\u001b[43mfinal_output\u001b[49m\u001b[43m.\u001b[49m\u001b[43mname\u001b[49m\u001b[43m,\u001b[49m\u001b[43m \u001b[49m\u001b[43mtripwire_triggered\u001b[49m\u001b[43m=\u001b[49m\u001b[43mis_name_in_message\u001b[49m\u001b[43m,\u001b[49m\n\u001b[32m      7\u001b[39m \u001b[43muser_response\u001b[49m\u001b[43m=\u001b[49m\u001b[33;43mf\u001b[39;49m\u001b[33;43m\"\u001b[39;49m\u001b[33;43mPlease avoid using name \u001b[39;49m\u001b[38;5;132;43;01m{\u001b[39;49;00m\u001b[43mresult\u001b[49m\u001b[43m.\u001b[49m\u001b[43mfinal_output\u001b[49m\u001b[43m.\u001b[49m\u001b[43mname\u001b[49m\u001b[38;5;132;43;01m}\u001b[39;49;00m\u001b[33;43m\"\u001b[39;49m\u001b[43m)\u001b[49m\n",
      "\u001b[31mTypeError\u001b[39m: GuardrailFunctionOutput.__init__() got an unexpected keyword argument 'user_response'"
     ]
    }
   ],
   "source": [
    "await Runner.run(gaurdrail_manager,\"Hi My name is Sakshi\")"
   ]
  },
  {
   "cell_type": "code",
   "execution_count": 45,
   "id": "9afb8202",
   "metadata": {},
   "outputs": [],
   "source": [
    "@input_guardrail\n",
    "async def name_check_output(ctx,agent,message):\n",
    "    result = await Runner.run(guardrail_agent,message,context=ctx.context)\n",
    "    return GuardrailFunctionOutput(output_info=result.final_output.name,tripwire_triggered=True)"
   ]
  },
  {
   "cell_type": "code",
   "execution_count": 46,
   "id": "2e518e04",
   "metadata": {},
   "outputs": [],
   "source": [
    "ag=Agent(name=\"guardrail_hero\",instructions=\"Check the name\",model=model,input_guardrails=[name_check_output])"
   ]
  },
  {
   "cell_type": "code",
   "execution_count": 47,
   "id": "7133b3d9",
   "metadata": {},
   "outputs": [
    {
     "ename": "InputGuardrailTripwireTriggered",
     "evalue": "Guardrail InputGuardrail triggered tripwire",
     "output_type": "error",
     "traceback": [
      "\u001b[31m---------------------------------------------------------------------------\u001b[39m",
      "\u001b[31mInputGuardrailTripwireTriggered\u001b[39m           Traceback (most recent call last)",
      "\u001b[36mCell\u001b[39m\u001b[36m \u001b[39m\u001b[32mIn[47]\u001b[39m\u001b[32m, line 1\u001b[39m\n\u001b[32m----> \u001b[39m\u001b[32m1\u001b[39m (\u001b[38;5;28;01mawait\u001b[39;00m Runner.run(ag,\u001b[33m\"\u001b[39m\u001b[33mHi I am Aman and Sakshi\u001b[39m\u001b[33m\"\u001b[39m)).final_output\n",
      "\u001b[36mFile \u001b[39m\u001b[32m~/agents/.venv/lib/python3.12/site-packages/agents/run.py:199\u001b[39m, in \u001b[36mRunner.run\u001b[39m\u001b[34m(cls, starting_agent, input, context, max_turns, hooks, run_config, previous_response_id)\u001b[39m\n\u001b[32m    172\u001b[39m \u001b[38;5;250m\u001b[39m\u001b[33;03m\"\"\"Run a workflow starting at the given agent. The agent will run in a loop until a final\u001b[39;00m\n\u001b[32m    173\u001b[39m \u001b[33;03moutput is generated. The loop runs like so:\u001b[39;00m\n\u001b[32m    174\u001b[39m \u001b[33;03m1. The agent is invoked with the given input.\u001b[39;00m\n\u001b[32m   (...)\u001b[39m\u001b[32m    196\u001b[39m \u001b[33;03m    agent. Agents may perform handoffs, so we don't know the specific type of the output.\u001b[39;00m\n\u001b[32m    197\u001b[39m \u001b[33;03m\"\"\"\u001b[39;00m\n\u001b[32m    198\u001b[39m runner = DEFAULT_AGENT_RUNNER\n\u001b[32m--> \u001b[39m\u001b[32m199\u001b[39m \u001b[38;5;28;01mreturn\u001b[39;00m \u001b[38;5;28;01mawait\u001b[39;00m runner.run(\n\u001b[32m    200\u001b[39m     starting_agent,\n\u001b[32m    201\u001b[39m     \u001b[38;5;28minput\u001b[39m,\n\u001b[32m    202\u001b[39m     context=context,\n\u001b[32m    203\u001b[39m     max_turns=max_turns,\n\u001b[32m    204\u001b[39m     hooks=hooks,\n\u001b[32m    205\u001b[39m     run_config=run_config,\n\u001b[32m    206\u001b[39m     previous_response_id=previous_response_id,\n\u001b[32m    207\u001b[39m )\n",
      "\u001b[36mFile \u001b[39m\u001b[32m~/agents/.venv/lib/python3.12/site-packages/agents/run.py:395\u001b[39m, in \u001b[36mAgentRunner.run\u001b[39m\u001b[34m(self, starting_agent, input, **kwargs)\u001b[39m\n\u001b[32m    390\u001b[39m logger.debug(\n\u001b[32m    391\u001b[39m     \u001b[33mf\u001b[39m\u001b[33m\"\u001b[39m\u001b[33mRunning agent \u001b[39m\u001b[38;5;132;01m{\u001b[39;00mcurrent_agent.name\u001b[38;5;132;01m}\u001b[39;00m\u001b[33m (turn \u001b[39m\u001b[38;5;132;01m{\u001b[39;00mcurrent_turn\u001b[38;5;132;01m}\u001b[39;00m\u001b[33m)\u001b[39m\u001b[33m\"\u001b[39m,\n\u001b[32m    392\u001b[39m )\n\u001b[32m    394\u001b[39m \u001b[38;5;28;01mif\u001b[39;00m current_turn == \u001b[32m1\u001b[39m:\n\u001b[32m--> \u001b[39m\u001b[32m395\u001b[39m     input_guardrail_results, turn_result = \u001b[38;5;28;01mawait\u001b[39;00m asyncio.gather(\n\u001b[32m    396\u001b[39m         \u001b[38;5;28mself\u001b[39m._run_input_guardrails(\n\u001b[32m    397\u001b[39m             starting_agent,\n\u001b[32m    398\u001b[39m             starting_agent.input_guardrails\n\u001b[32m    399\u001b[39m             + (run_config.input_guardrails \u001b[38;5;129;01mor\u001b[39;00m []),\n\u001b[32m    400\u001b[39m             copy.deepcopy(\u001b[38;5;28minput\u001b[39m),\n\u001b[32m    401\u001b[39m             context_wrapper,\n\u001b[32m    402\u001b[39m         ),\n\u001b[32m    403\u001b[39m         \u001b[38;5;28mself\u001b[39m._run_single_turn(\n\u001b[32m    404\u001b[39m             agent=current_agent,\n\u001b[32m    405\u001b[39m             all_tools=all_tools,\n\u001b[32m    406\u001b[39m             original_input=original_input,\n\u001b[32m    407\u001b[39m             generated_items=generated_items,\n\u001b[32m    408\u001b[39m             hooks=hooks,\n\u001b[32m    409\u001b[39m             context_wrapper=context_wrapper,\n\u001b[32m    410\u001b[39m             run_config=run_config,\n\u001b[32m    411\u001b[39m             should_run_agent_start_hooks=should_run_agent_start_hooks,\n\u001b[32m    412\u001b[39m             tool_use_tracker=tool_use_tracker,\n\u001b[32m    413\u001b[39m             previous_response_id=previous_response_id,\n\u001b[32m    414\u001b[39m         ),\n\u001b[32m    415\u001b[39m     )\n\u001b[32m    416\u001b[39m \u001b[38;5;28;01melse\u001b[39;00m:\n\u001b[32m    417\u001b[39m     turn_result = \u001b[38;5;28;01mawait\u001b[39;00m \u001b[38;5;28mself\u001b[39m._run_single_turn(\n\u001b[32m    418\u001b[39m         agent=current_agent,\n\u001b[32m    419\u001b[39m         all_tools=all_tools,\n\u001b[32m   (...)\u001b[39m\u001b[32m    427\u001b[39m         previous_response_id=previous_response_id,\n\u001b[32m    428\u001b[39m     )\n",
      "\u001b[36mFile \u001b[39m\u001b[32m~/agents/.venv/lib/python3.12/site-packages/agents/run.py:1003\u001b[39m, in \u001b[36mAgentRunner._run_input_guardrails\u001b[39m\u001b[34m(cls, agent, guardrails, input, context)\u001b[39m\n\u001b[32m    996\u001b[39m         t.cancel()\n\u001b[32m    997\u001b[39m     _error_tracing.attach_error_to_current_span(\n\u001b[32m    998\u001b[39m         SpanError(\n\u001b[32m    999\u001b[39m             message=\u001b[33m\"\u001b[39m\u001b[33mGuardrail tripwire triggered\u001b[39m\u001b[33m\"\u001b[39m,\n\u001b[32m   1000\u001b[39m             data={\u001b[33m\"\u001b[39m\u001b[33mguardrail\u001b[39m\u001b[33m\"\u001b[39m: result.guardrail.get_name()},\n\u001b[32m   1001\u001b[39m         )\n\u001b[32m   1002\u001b[39m     )\n\u001b[32m-> \u001b[39m\u001b[32m1003\u001b[39m     \u001b[38;5;28;01mraise\u001b[39;00m InputGuardrailTripwireTriggered(result)\n\u001b[32m   1004\u001b[39m \u001b[38;5;28;01melse\u001b[39;00m:\n\u001b[32m   1005\u001b[39m     guardrail_results.append(result)\n",
      "\u001b[31mInputGuardrailTripwireTriggered\u001b[39m: Guardrail InputGuardrail triggered tripwire"
     ]
    }
   ],
   "source": [
    "(await Runner.run(ag,\"Hi I am Aman and Sakshi\")).final_output"
   ]
  }
 ],
 "metadata": {
  "kernelspec": {
   "display_name": ".venv",
   "language": "python",
   "name": "python3"
  },
  "language_info": {
   "codemirror_mode": {
    "name": "ipython",
    "version": 3
   },
   "file_extension": ".py",
   "mimetype": "text/x-python",
   "name": "python",
   "nbconvert_exporter": "python",
   "pygments_lexer": "ipython3",
   "version": "3.12.3"
  }
 },
 "nbformat": 4,
 "nbformat_minor": 5
}
