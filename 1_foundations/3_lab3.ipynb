{
 "cells": [
  {
   "cell_type": "markdown",
   "metadata": {},
   "source": [
    "## Welcome to Lab 3 for Week 1 Day 4\n",
    "\n",
    "Today we're going to build something with immediate value!\n",
    "\n",
    "In the folder `me` I've put a single file `linkedin.pdf` - it's a PDF download of my LinkedIn profile.\n",
    "\n",
    "Please replace it with yours!\n",
    "\n",
    "I've also made a file called `summary.txt`\n",
    "\n",
    "We're not going to use Tools just yet - we're going to add the tool tomorrow."
   ]
  },
  {
   "cell_type": "markdown",
   "metadata": {},
   "source": [
    "<table style=\"margin: 0; text-align: left; width:100%\">\n",
    "    <tr>\n",
    "        <td style=\"width: 150px; height: 150px; vertical-align: middle;\">\n",
    "            <img src=\"../assets/tools.png\" width=\"150\" height=\"150\" style=\"display: block;\" />\n",
    "        </td>\n",
    "        <td>\n",
    "            <h2 style=\"color:#00bfff;\">Looking up packages</h2>\n",
    "            <span style=\"color:#00bfff;\">In this lab, we're going to use the wonderful Gradio package for building quick UIs, \n",
    "            and we're also going to use the popular PyPDF PDF reader. You can get guides to these packages by asking \n",
    "            ChatGPT or Claude, and you find all open-source packages on the repository <a href=\"https://pypi.org\">https://pypi.org</a>.\n",
    "            </span>\n",
    "        </td>\n",
    "    </tr>\n",
    "</table>"
   ]
  },
  {
   "cell_type": "code",
   "execution_count": 1,
   "metadata": {},
   "outputs": [],
   "source": [
    "# If you don't know what any of these packages do - you can always ask ChatGPT for a guide!\n",
    "\n",
    "from dotenv import load_dotenv\n",
    "from openai import OpenAI\n",
    "from pypdf import PdfReader\n",
    "import gradio as gr"
   ]
  },
  {
   "cell_type": "code",
   "execution_count": 2,
   "metadata": {},
   "outputs": [],
   "source": [
    "load_dotenv(override=True)\n",
    "openai = OpenAI()"
   ]
  },
  {
   "cell_type": "code",
   "execution_count": 6,
   "metadata": {},
   "outputs": [],
   "source": [
    "reader = PdfReader(\"me/Profile.pdf\")\n",
    "linkedin = \"\"\n",
    "for page in reader.pages:\n",
    "    text = page.extract_text()\n",
    "    if text:\n",
    "        linkedin += text"
   ]
  },
  {
   "cell_type": "code",
   "execution_count": 7,
   "metadata": {},
   "outputs": [
    {
     "name": "stdout",
     "output_type": "stream",
     "text": [
      "   \n",
      "Contact\n",
      "8741993622 (Home)\n",
      "lakshaykalwar@gmail.com\n",
      "www.linkedin.com/in/lakshaykalwar\n",
      "(LinkedIn)\n",
      "Top Skills\n",
      "Agentic AI\n",
      "Hugging Face Products\n",
      "Q-Lora\n",
      "Languages\n",
      "English (Full Professional)\n",
      "Hindi (Native or Bilingual)\n",
      "French (Limited Working)\n",
      "Certifications\n",
      "AWS Solution Architect \n",
      "Digital Marketing Basics (Certificate)\n",
      "SQL \n",
      "Machine Learning\n",
      "Generative Al for Beginners\n",
      "Honors-Awards\n",
      "SPOT AWARD\n",
      "Best TEAM Award\n",
      "Game Changer Award\n",
      "Lakshay Kalwar\n",
      "Business Consultant @ EY || AWS certified Solution Architect ||\n",
      "Business Consulting || Ex-ZS || Ex-TCS || Python || Pyspark\n",
      "Bengaluru, Karnataka, India\n",
      "Summary\n",
      "Proficient DevOps and Data Engineer with expertise in Python,\n",
      "AWS, and SQL with Agile Methodologies along with Genai\n",
      "capabilities.\n",
      "Passionate about collaborating with cross-functional teams to\n",
      "deliver innovative solutions that exceed business expectations. Let's\n",
      "connect to explore new opportunities and share knowledge.\n",
      "Experience\n",
      "EY\n",
      "Consultant 2\n",
      "April 2023 - Present (2 years 4 months)\n",
      "Bengaluru, Karnataka, India\n",
      "ZS\n",
      "Senior Data Engineer\n",
      "April 2021 - April 2023 (2 years 1 month)\n",
      "Delhi, India\n",
      "• Collaborated with business stakeholders, data scientists, and internal teams\n",
      "to build and implement extraordinary domain-focused data products (re-usable\n",
      "assets)  and deliver them right to the client.\n",
      "• Used new and creative techniques to deliver impact for our client in the R&D\n",
      "project.\n",
      "• Helped to build and maintain the technology platform for advanced analytics\n",
      "engagements, spanning data science and data engineering work\n",
      "• Create and manage data environments and ensure information security\n",
      "standards are maintained at all times\n",
      "• Map data fields to hypothesis and curate, wrangle, and prepare data for use\n",
      "in Data Science models\n",
      "Tata Consultancy Services\n",
      "2 years\n",
      "Assistant System Engineer\n",
      "  Page 1 of 4   \n",
      "May 2019 - April 2021 (2 years)\n",
      "Gurgaon, Haryana, India\n",
      "Worked on a project that involved use of  Python, SQL, ETL and AWS,\n",
      "following AGILE Methodology.\n",
      "Awarded with SPOT Award for Dedicated and Committed Performance\n",
      "Assistant System Engineer Trainee\n",
      "June 2019 - December 2019 (7 months)\n",
      "Gurgaon, Haryana, India\n",
      "Created a Mobile automation software tool for Unix OS, using technology such\n",
      "as Python, Django, Flask and shell scripting.\n",
      "SRM University\n",
      "Student\n",
      "June 2015 - May 2019 (4 years)\n",
      "Chennai, Tamil Nadu, India\n",
      "CEBS Worldwide\n",
      "Intern\n",
      "June 2017 - December 2017 (7 months)\n",
      "Noida Area, India\n",
      "• Worked as a JAVA Developer. \n",
      "ValeurHR\n",
      "Research Intern\n",
      "May 2017 - July 2017 (3 months)\n",
      "I have completed my internship in R&D and Data Analytics Program for\n",
      "FOREX Trend Analysis with ValeurHR E-Solutions Pvt Ltd, Chandigarh\n",
      "E-Cell IIT Madras\n",
      "Campus Ambassador\n",
      "July 2016 - June 2017 (1 year)\n",
      "Chennai, Tamil Nadu, India\n",
      "International Student Organisation - ShARE\n",
      "Campus Ambassador\n",
      "December 2016 - May 2017 (6 months)\n",
      "IIT Bombay \n",
      "Entrepreneurship Cell, IIT Kanpur\n",
      "Campus Ambassador\n",
      "  Page 2 of 4   \n",
      "June 2016 - May 2017 (1 year)\n",
      "Bits pilani,  Apogee 2017\n",
      "Campus Ambassador\n",
      "November 2016 - April 2017 (6 months)\n",
      "I was selected as a Campus Ambassador for the event among thousands of\n",
      "students of our college. I worked as a Marketing head and Promotional head\n",
      "for the Techfest, Apogee of Bits Pilani. \n",
      "I have done huge Social Media marketing for the event and was rewarded as a\n",
      "Active Campus Ambassador \n",
      "Spring Fest\n",
      "Campus Ambassador\n",
      "October 2016 - January 2017 (4 months)\n",
      "IIT KHARAGPUR \n",
      "The Entrepreneurship Cell, IIT Bombay\n",
      "College Representative \n",
      "August 2016 - January 2017 (6 months)\n",
      "IIT Bombay \n",
      "I was responsible for all the promotions and marketing done in our campus for\n",
      "the Entrepreneurship Cell of IIT Bombay. \n",
      "I gave many presentations on Entrepreneurship in our college. \n",
      "I was the most active College Representative and done huge Social Media\n",
      "marketing. \n",
      "Techfest, IIT Bombay\n",
      "College Representative\n",
      "June 2016 - January 2017 (8 months)\n",
      "Indian Institute of Technology, Guwahati\n",
      "TechRep\n",
      "June 2016 - December 2016 (7 months)\n",
      "I was Technical Representative for my college, representing all the Projects\n",
      "and experiments from my college. I was responsible for marketing and\n",
      "managing the activities of Techfest, IIT Guwahati in my campus. I was\n",
      "promotional head, responsible for all the Social Media Marketing. \n",
      "Mood Indigo IIT Bombay\n",
      "College Representative\n",
      "May 2015 - December 2016 (1 year 8 months)\n",
      "  Page 3 of 4   \n",
      "Actively contributed and was awarded BEST COLLEGE REPRESENTATIVE\n",
      "twice consequently in 2015 and 2016.\n",
      "CollegeBol.com\n",
      "Campus intern\n",
      "June 2016 - September 2016 (4 months)\n",
      "Education\n",
      "SRM University\n",
      "Btech, Computer Science · (2015 - 2019)\n",
      "St. John's sr. sec school, Kota\n",
      " · (2011 - 2014)\n",
      "St. Pauls sr sec school, Beawar\n",
      " · (2003 - 2010)\n",
      "  Page 4 of 4\n"
     ]
    }
   ],
   "source": [
    "print(linkedin)"
   ]
  },
  {
   "cell_type": "code",
   "execution_count": 5,
   "metadata": {},
   "outputs": [],
   "source": [
    "with open(\"me/summary.txt\", \"r\", encoding=\"utf-8\") as f:\n",
    "    summary = f.read()"
   ]
  },
  {
   "cell_type": "code",
   "execution_count": 8,
   "metadata": {},
   "outputs": [],
   "source": [
    "name = \"Lakshay Kalwar\""
   ]
  },
  {
   "cell_type": "code",
   "execution_count": 9,
   "metadata": {},
   "outputs": [],
   "source": [
    "system_prompt = f\"You are acting as {name}. You are answering questions on {name}'s website, \\\n",
    "particularly questions related to {name}'s career, background, skills and experience. \\\n",
    "Your responsibility is to represent {name} for interactions on the website as faithfully as possible. \\\n",
    "You are given a summary of {name}'s background and LinkedIn profile which you can use to answer questions. \\\n",
    "Be professional and engaging, as if talking to a potential client or future employer who came across the website. \\\n",
    "If you don't know the answer, say so.\"\n",
    "\n",
    "system_prompt += f\"\\n\\n## LinkedIn Profile:\\n{linkedin}\\n\\n\"\n",
    "system_prompt += f\"With this context, please chat with the user, always staying in character as {name}.\"\n"
   ]
  },
  {
   "cell_type": "code",
   "execution_count": 10,
   "metadata": {},
   "outputs": [
    {
     "data": {
      "text/plain": [
       "\"You are acting as Lakshay Kalwar. You are answering questions on Lakshay Kalwar's website, particularly questions related to Lakshay Kalwar's career, background, skills and experience. Your responsibility is to represent Lakshay Kalwar for interactions on the website as faithfully as possible. You are given a summary of Lakshay Kalwar's background and LinkedIn profile which you can use to answer questions. Be professional and engaging, as if talking to a potential client or future employer who came across the website. If you don't know the answer, say so.\\n\\n## LinkedIn Profile:\\n\\xa0 \\xa0\\nContact\\n8741993622 (Home)\\nlakshaykalwar@gmail.com\\nwww.linkedin.com/in/lakshaykalwar\\n(LinkedIn)\\nTop Skills\\nAgentic AI\\nHugging Face Products\\nQ-Lora\\nLanguages\\nEnglish (Full Professional)\\nHindi (Native or Bilingual)\\nFrench (Limited Working)\\nCertifications\\nAWS Solution Architect \\nDigital Marketing Basics (Certificate)\\nSQL \\nMachine Learning\\nGenerative Al for Beginners\\nHonors-Awards\\nSPOT AWARD\\nBest TEAM Award\\nGame Changer Award\\nLakshay Kalwar\\nBusiness Consultant @ EY || AWS certified Solution Architect ||\\nBusiness Consulting || Ex-ZS || Ex-TCS || Python || Pyspark\\nBengaluru, Karnataka, India\\nSummary\\nProficient DevOps and Data Engineer with expertise in Python,\\nAWS, and SQL with Agile Methodologies along with Genai\\ncapabilities.\\nPassionate about collaborating with cross-functional teams to\\ndeliver innovative solutions that exceed business expectations. Let's\\nconnect to explore new opportunities and share knowledge.\\nExperience\\nEY\\nConsultant 2\\nApril 2023\\xa0-\\xa0Present\\xa0(2 years 4 months)\\nBengaluru, Karnataka, India\\nZS\\nSenior Data Engineer\\nApril 2021\\xa0-\\xa0April 2023\\xa0(2 years 1 month)\\nDelhi, India\\n• Collaborated with business stakeholders, data scientists, and internal teams\\nto build and implement extraordinary domain-focused data products (re-usable\\nassets)  and deliver them right to the client.\\n• Used new and creative techniques to deliver impact for our client in the R&D\\nproject.\\n• Helped to build and maintain the technology platform for advanced analytics\\nengagements, spanning data science and data engineering work\\n• Create and manage data environments and ensure information security\\nstandards are maintained at all times\\n• Map data fields to hypothesis and curate, wrangle, and prepare data for use\\nin Data Science models\\nTata Consultancy Services\\n2 years\\nAssistant System Engineer\\n\\xa0 Page 1 of 4\\xa0 \\xa0\\nMay 2019\\xa0-\\xa0April 2021\\xa0(2 years)\\nGurgaon, Haryana, India\\nWorked on a project that involved use of  Python, SQL, ETL and AWS,\\nfollowing AGILE Methodology.\\nAwarded with SPOT Award for Dedicated and Committed Performance\\nAssistant System Engineer Trainee\\nJune 2019\\xa0-\\xa0December 2019\\xa0(7 months)\\nGurgaon, Haryana, India\\nCreated a Mobile automation software tool for Unix OS, using technology such\\nas Python, Django, Flask and shell scripting.\\nSRM University\\nStudent\\nJune 2015\\xa0-\\xa0May 2019\\xa0(4 years)\\nChennai, Tamil Nadu, India\\nCEBS Worldwide\\nIntern\\nJune 2017\\xa0-\\xa0December 2017\\xa0(7 months)\\nNoida Area, India\\n• Worked as a JAVA Developer. \\nValeurHR\\nResearch Intern\\nMay 2017\\xa0-\\xa0July 2017\\xa0(3 months)\\nI have completed my internship in R&D and Data Analytics Program for\\nFOREX Trend Analysis with ValeurHR E-Solutions Pvt Ltd, Chandigarh\\nE-Cell IIT Madras\\nCampus Ambassador\\nJuly 2016\\xa0-\\xa0June 2017\\xa0(1 year)\\nChennai, Tamil Nadu, India\\nInternational Student Organisation - ShARE\\nCampus Ambassador\\nDecember 2016\\xa0-\\xa0May 2017\\xa0(6 months)\\nIIT Bombay \\nEntrepreneurship Cell, IIT Kanpur\\nCampus Ambassador\\n\\xa0 Page 2 of 4\\xa0 \\xa0\\nJune 2016\\xa0-\\xa0May 2017\\xa0(1 year)\\nBits pilani,  Apogee 2017\\nCampus Ambassador\\nNovember 2016\\xa0-\\xa0April 2017\\xa0(6 months)\\nI was selected as a Campus Ambassador for the event among thousands of\\nstudents of our college. I worked as a Marketing head and Promotional head\\nfor the Techfest, Apogee of Bits Pilani. \\nI have done huge Social Media marketing for the event and was rewarded as a\\nActive Campus Ambassador \\nSpring Fest\\nCampus Ambassador\\nOctober 2016\\xa0-\\xa0January 2017\\xa0(4 months)\\nIIT KHARAGPUR \\nThe Entrepreneurship Cell, IIT Bombay\\nCollege Representative \\nAugust 2016\\xa0-\\xa0January 2017\\xa0(6 months)\\nIIT Bombay \\nI was responsible for all the promotions and marketing done in our campus for\\nthe Entrepreneurship Cell of IIT Bombay. \\nI gave many presentations on Entrepreneurship in our college. \\nI was the most active College Representative and done huge Social Media\\nmarketing. \\nTechfest, IIT Bombay\\nCollege Representative\\nJune 2016\\xa0-\\xa0January 2017\\xa0(8 months)\\nIndian Institute of Technology, Guwahati\\nTechRep\\nJune 2016\\xa0-\\xa0December 2016\\xa0(7 months)\\nI was Technical Representative for my college, representing all the Projects\\nand experiments from my college. I was responsible for marketing and\\nmanaging the activities of Techfest, IIT Guwahati in my campus. I was\\npromotional head, responsible for all the Social Media Marketing. \\nMood Indigo IIT Bombay\\nCollege Representative\\nMay 2015\\xa0-\\xa0December 2016\\xa0(1 year 8 months)\\n\\xa0 Page 3 of 4\\xa0 \\xa0\\nActively contributed and was awarded BEST COLLEGE REPRESENTATIVE\\ntwice consequently in 2015 and 2016.\\nCollegeBol.com\\nCampus intern\\nJune 2016\\xa0-\\xa0September 2016\\xa0(4 months)\\nEducation\\nSRM University\\nBtech,\\xa0Computer Science\\xa0·\\xa0(2015\\xa0-\\xa02019)\\nSt. John's sr. sec school, Kota\\n\\xa0·\\xa0(2011\\xa0-\\xa02014)\\nSt. Pauls sr sec school, Beawar\\n\\xa0·\\xa0(2003\\xa0-\\xa02010)\\n\\xa0 Page 4 of 4\\n\\nWith this context, please chat with the user, always staying in character as Lakshay Kalwar.\""
      ]
     },
     "execution_count": 10,
     "metadata": {},
     "output_type": "execute_result"
    }
   ],
   "source": [
    "system_prompt"
   ]
  },
  {
   "cell_type": "code",
   "execution_count": 11,
   "metadata": {},
   "outputs": [],
   "source": [
    "def chat(message, history):\n",
    "    messages = [{\"role\": \"system\", \"content\": system_prompt}] + history + [{\"role\": \"user\", \"content\": message}]\n",
    "    response = openai.chat.completions.create(model=\"gpt-4o-mini\", messages=messages)\n",
    "    return response.choices[0].message.content"
   ]
  },
  {
   "cell_type": "code",
   "execution_count": 12,
   "metadata": {},
   "outputs": [
    {
     "name": "stdout",
     "output_type": "stream",
     "text": [
      "* Running on local URL:  http://127.0.0.1:7860\n",
      "* To create a public link, set `share=True` in `launch()`.\n"
     ]
    },
    {
     "data": {
      "text/html": [
       "<div><iframe src=\"http://127.0.0.1:7860/\" width=\"100%\" height=\"500\" allow=\"autoplay; camera; microphone; clipboard-read; clipboard-write;\" frameborder=\"0\" allowfullscreen></iframe></div>"
      ],
      "text/plain": [
       "<IPython.core.display.HTML object>"
      ]
     },
     "metadata": {},
     "output_type": "display_data"
    },
    {
     "data": {
      "text/plain": []
     },
     "execution_count": 12,
     "metadata": {},
     "output_type": "execute_result"
    }
   ],
   "source": [
    "gr.ChatInterface(chat, type=\"messages\").launch()"
   ]
  },
  {
   "cell_type": "markdown",
   "metadata": {},
   "source": [
    "## A lot is about to happen...\n",
    "\n",
    "1. Be able to ask an LLM to evaluate an answer\n",
    "2. Be able to rerun if the answer fails evaluation\n",
    "3. Put this together into 1 workflow\n",
    "\n",
    "All without any Agentic framework!"
   ]
  },
  {
   "cell_type": "code",
   "execution_count": 11,
   "metadata": {},
   "outputs": [],
   "source": [
    "# Create a Pydantic model for the Evaluation\n",
    "\n",
    "from pydantic import BaseModel\n",
    "\n",
    "class Evaluation(BaseModel):\n",
    "    is_acceptable: bool\n",
    "    feedback: str\n"
   ]
  },
  {
   "cell_type": "code",
   "execution_count": 23,
   "metadata": {},
   "outputs": [],
   "source": [
    "evaluator_system_prompt = f\"You are an evaluator that decides whether a response to a question is acceptable. \\\n",
    "You are provided with a conversation between a User and an Agent. Your task is to decide whether the Agent's latest response is acceptable quality. \\\n",
    "The Agent is playing the role of {name} and is representing {name} on their website. \\\n",
    "The Agent has been instructed to be professional and engaging, as if talking to a potential client or future employer who came across the website. \\\n",
    "The Agent has been provided with context on {name} in the form of their summary and LinkedIn details. Here's the information:\"\n",
    "\n",
    "evaluator_system_prompt += f\"\\n\\n## Summary:\\n{summary}\\n\\n## LinkedIn Profile:\\n{linkedin}\\n\\n\"\n",
    "evaluator_system_prompt += f\"With this context, please evaluate the latest response, replying with whether the response is acceptable and your feedback.\""
   ]
  },
  {
   "cell_type": "code",
   "execution_count": 24,
   "metadata": {},
   "outputs": [],
   "source": [
    "def evaluator_user_prompt(reply, message, history):\n",
    "    user_prompt = f\"Here's the conversation between the User and the Agent: \\n\\n{history}\\n\\n\"\n",
    "    user_prompt += f\"Here's the latest message from the User: \\n\\n{message}\\n\\n\"\n",
    "    user_prompt += f\"Here's the latest response from the Agent: \\n\\n{reply}\\n\\n\"\n",
    "    user_prompt += \"Please evaluate the response, replying with whether it is acceptable and your feedback.\"\n",
    "    return user_prompt"
   ]
  },
  {
   "cell_type": "code",
   "execution_count": 25,
   "metadata": {},
   "outputs": [],
   "source": [
    "import os\n",
    "gemini = OpenAI(\n",
    "    api_key=os.getenv(\"GOOGLE_API_KEY\"), \n",
    "    base_url=\"https://generativelanguage.googleapis.com/v1beta/openai/\"\n",
    ")"
   ]
  },
  {
   "cell_type": "code",
   "execution_count": 26,
   "metadata": {},
   "outputs": [],
   "source": [
    "def evaluate(reply, message, history) -> Evaluation:\n",
    "\n",
    "    messages = [{\"role\": \"system\", \"content\": evaluator_system_prompt}] + [{\"role\": \"user\", \"content\": evaluator_user_prompt(reply, message, history)}]\n",
    "    response = gemini.beta.chat.completions.parse(model=\"gemini-2.0-flash\", messages=messages, response_format=Evaluation)\n",
    "    return response.choices[0].message.parsed"
   ]
  },
  {
   "cell_type": "code",
   "execution_count": 27,
   "metadata": {},
   "outputs": [],
   "source": [
    "messages = [{\"role\": \"system\", \"content\": system_prompt}] + [{\"role\": \"user\", \"content\": \"do you hold a patent?\"}]\n",
    "response = openai.chat.completions.create(model=\"gpt-4o-mini\", messages=messages)\n",
    "reply = response.choices[0].message.content"
   ]
  },
  {
   "cell_type": "code",
   "execution_count": null,
   "metadata": {},
   "outputs": [],
   "source": [
    "reply"
   ]
  },
  {
   "cell_type": "code",
   "execution_count": null,
   "metadata": {},
   "outputs": [],
   "source": [
    "evaluate(reply, \"do you hold a patent?\", messages[:1])"
   ]
  },
  {
   "cell_type": "code",
   "execution_count": 30,
   "metadata": {},
   "outputs": [],
   "source": [
    "def rerun(reply, message, history, feedback):\n",
    "    updated_system_prompt = system_prompt + \"\\n\\n## Previous answer rejected\\nYou just tried to reply, but the quality control rejected your reply\\n\"\n",
    "    updated_system_prompt += f\"## Your attempted answer:\\n{reply}\\n\\n\"\n",
    "    updated_system_prompt += f\"## Reason for rejection:\\n{feedback}\\n\\n\"\n",
    "    messages = [{\"role\": \"system\", \"content\": updated_system_prompt}] + history + [{\"role\": \"user\", \"content\": message}]\n",
    "    response = openai.chat.completions.create(model=\"gpt-4o-mini\", messages=messages)\n",
    "    return response.choices[0].message.content"
   ]
  },
  {
   "cell_type": "code",
   "execution_count": 35,
   "metadata": {},
   "outputs": [],
   "source": [
    "def chat(message, history):\n",
    "    if \"patent\" in message:\n",
    "        system = system_prompt + \"\\n\\nEverything in your reply needs to be in pig latin - \\\n",
    "              it is mandatory that you respond only and entirely in pig latin\"\n",
    "    else:\n",
    "        system = system_prompt\n",
    "    messages = [{\"role\": \"system\", \"content\": system}] + history + [{\"role\": \"user\", \"content\": message}]\n",
    "    response = openai.chat.completions.create(model=\"gpt-4o-mini\", messages=messages)\n",
    "    reply =response.choices[0].message.content\n",
    "\n",
    "    evaluation = evaluate(reply, message, history)\n",
    "    \n",
    "    if evaluation.is_acceptable:\n",
    "        print(\"Passed evaluation - returning reply\")\n",
    "    else:\n",
    "        print(\"Failed evaluation - retrying\")\n",
    "        print(evaluation.feedback)\n",
    "        reply = rerun(reply, message, history, evaluation.feedback)       \n",
    "    return reply"
   ]
  },
  {
   "cell_type": "code",
   "execution_count": null,
   "metadata": {},
   "outputs": [],
   "source": [
    "gr.ChatInterface(chat, type=\"messages\").launch()"
   ]
  },
  {
   "cell_type": "markdown",
   "metadata": {},
   "source": []
  },
  {
   "cell_type": "code",
   "execution_count": null,
   "metadata": {},
   "outputs": [],
   "source": []
  }
 ],
 "metadata": {
  "kernelspec": {
   "display_name": ".venv",
   "language": "python",
   "name": "python3"
  },
  "language_info": {
   "codemirror_mode": {
    "name": "ipython",
    "version": 3
   },
   "file_extension": ".py",
   "mimetype": "text/x-python",
   "name": "python",
   "nbconvert_exporter": "python",
   "pygments_lexer": "ipython3",
   "version": "3.12.3"
  }
 },
 "nbformat": 4,
 "nbformat_minor": 2
}
